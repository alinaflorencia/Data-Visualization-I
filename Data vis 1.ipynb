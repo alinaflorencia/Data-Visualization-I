{
 "cells": [
  {
   "cell_type": "code",
   "execution_count": 1,
   "metadata": {},
   "outputs": [],
   "source": [
    "import pandas as pd\n",
    "import numpy as np"
   ]
  },
  {
   "cell_type": "code",
   "execution_count": 2,
   "metadata": {},
   "outputs": [],
   "source": [
    "from matplotlib import pyplot as plt"
   ]
  },
  {
   "cell_type": "markdown",
   "metadata": {},
   "source": [
    "Alina Florencia Karuniawati 23102010073"
   ]
  },
  {
   "cell_type": "code",
   "execution_count": 3,
   "metadata": {},
   "outputs": [
    {
     "data": {
      "text/html": [
       "<div>\n",
       "<style scoped>\n",
       "    .dataframe tbody tr th:only-of-type {\n",
       "        vertical-align: middle;\n",
       "    }\n",
       "\n",
       "    .dataframe tbody tr th {\n",
       "        vertical-align: top;\n",
       "    }\n",
       "\n",
       "    .dataframe thead th {\n",
       "        text-align: right;\n",
       "    }\n",
       "</style>\n",
       "<table border=\"1\" class=\"dataframe\">\n",
       "  <thead>\n",
       "    <tr style=\"text-align: right;\">\n",
       "      <th></th>\n",
       "      <th>First Name</th>\n",
       "      <th>Last Name</th>\n",
       "      <th>Age</th>\n",
       "      <th>Rank</th>\n",
       "      <th>Classification</th>\n",
       "      <th>Date of Incident</th>\n",
       "      <th>Date of Death</th>\n",
       "      <th>Cause Of Death</th>\n",
       "      <th>Nature Of Death</th>\n",
       "      <th>Duty</th>\n",
       "      <th>Activity</th>\n",
       "      <th>Emergency</th>\n",
       "      <th>Property Type</th>\n",
       "      <th>Unnamed: 13</th>\n",
       "    </tr>\n",
       "  </thead>\n",
       "  <tbody>\n",
       "    <tr>\n",
       "      <th>0</th>\n",
       "      <td>Robert</td>\n",
       "      <td>Pollard</td>\n",
       "      <td>64</td>\n",
       "      <td>Firefighter</td>\n",
       "      <td>Volunteer</td>\n",
       "      <td>Dec 31, 1999</td>\n",
       "      <td>Jan 1, 2000</td>\n",
       "      <td>Stress/Overexertion</td>\n",
       "      <td>Stroke</td>\n",
       "      <td>Response</td>\n",
       "      <td>Vehicle Passenger</td>\n",
       "      <td>Yes</td>\n",
       "      <td>Outdoor Property</td>\n",
       "      <td>NaN</td>\n",
       "    </tr>\n",
       "    <tr>\n",
       "      <th>1</th>\n",
       "      <td>Lee</td>\n",
       "      <td>Purdy</td>\n",
       "      <td>57</td>\n",
       "      <td>Pump Operator/Inspector</td>\n",
       "      <td>Volunteer</td>\n",
       "      <td>Jan 8, 2000</td>\n",
       "      <td>Jan 8, 2000</td>\n",
       "      <td>Stress/Overexertion</td>\n",
       "      <td>Heart Attack</td>\n",
       "      <td>On-Scene Fire</td>\n",
       "      <td>Advance Hose Lines/Fire Attack</td>\n",
       "      <td>Yes</td>\n",
       "      <td>Residential</td>\n",
       "      <td>NaN</td>\n",
       "    </tr>\n",
       "    <tr>\n",
       "      <th>2</th>\n",
       "      <td>Ronald</td>\n",
       "      <td>Osadacz</td>\n",
       "      <td>36</td>\n",
       "      <td>First Assistant Chief</td>\n",
       "      <td>Volunteer</td>\n",
       "      <td>Jan 11, 2000</td>\n",
       "      <td>Jan 11, 2000</td>\n",
       "      <td>Stress/Overexertion</td>\n",
       "      <td>Heart Attack</td>\n",
       "      <td>Response</td>\n",
       "      <td>Advance Hose Lines/Fire Attack</td>\n",
       "      <td>Yes</td>\n",
       "      <td>Street/Road</td>\n",
       "      <td>NaN</td>\n",
       "    </tr>\n",
       "    <tr>\n",
       "      <th>3</th>\n",
       "      <td>Allen</td>\n",
       "      <td>Streeter</td>\n",
       "      <td>58</td>\n",
       "      <td>Firefighter</td>\n",
       "      <td>Volunteer</td>\n",
       "      <td>Jan 11, 2000</td>\n",
       "      <td>Jan 11, 2000</td>\n",
       "      <td>Stress/Overexertion</td>\n",
       "      <td>Heart Attack</td>\n",
       "      <td>On-Scene Fire</td>\n",
       "      <td>Advance Hose Lines/Fire Attack</td>\n",
       "      <td>Yes</td>\n",
       "      <td>Outdoor Property</td>\n",
       "      <td>NaN</td>\n",
       "    </tr>\n",
       "    <tr>\n",
       "      <th>4</th>\n",
       "      <td>Gary</td>\n",
       "      <td>Bankert, Sr</td>\n",
       "      <td>37</td>\n",
       "      <td>Firefighter</td>\n",
       "      <td>Volunteer</td>\n",
       "      <td>Jan 15, 2000</td>\n",
       "      <td>Jan 15, 2000</td>\n",
       "      <td>Trapped</td>\n",
       "      <td>Suffocation</td>\n",
       "      <td>Training</td>\n",
       "      <td>Other</td>\n",
       "      <td>No</td>\n",
       "      <td>NaN</td>\n",
       "      <td>NaN</td>\n",
       "    </tr>\n",
       "    <tr>\n",
       "      <th>...</th>\n",
       "      <td>...</td>\n",
       "      <td>...</td>\n",
       "      <td>...</td>\n",
       "      <td>...</td>\n",
       "      <td>...</td>\n",
       "      <td>...</td>\n",
       "      <td>...</td>\n",
       "      <td>...</td>\n",
       "      <td>...</td>\n",
       "      <td>...</td>\n",
       "      <td>...</td>\n",
       "      <td>...</td>\n",
       "      <td>...</td>\n",
       "      <td>...</td>\n",
       "    </tr>\n",
       "    <tr>\n",
       "      <th>2000</th>\n",
       "      <td>Jack</td>\n",
       "      <td>Rose</td>\n",
       "      <td>19</td>\n",
       "      <td>Captain</td>\n",
       "      <td>Volunteer</td>\n",
       "      <td>Dec 19, 2015</td>\n",
       "      <td>Dec 19, 2015</td>\n",
       "      <td>Disorientation</td>\n",
       "      <td>Suffocation</td>\n",
       "      <td>On-Scene Fire</td>\n",
       "      <td>Advance Hose Lines/Fire Attack</td>\n",
       "      <td>Yes</td>\n",
       "      <td>Residential</td>\n",
       "      <td>NaN</td>\n",
       "    </tr>\n",
       "    <tr>\n",
       "      <th>2001</th>\n",
       "      <td>Stacy</td>\n",
       "      <td>Crawford</td>\n",
       "      <td>47</td>\n",
       "      <td>Firefighter</td>\n",
       "      <td>Volunteer</td>\n",
       "      <td>Dec 19, 2015</td>\n",
       "      <td>Dec 19, 2015</td>\n",
       "      <td>Stress/Overexertion</td>\n",
       "      <td>Heart Attack</td>\n",
       "      <td>Training</td>\n",
       "      <td>Not on Scene</td>\n",
       "      <td>No</td>\n",
       "      <td>NaN</td>\n",
       "      <td>NaN</td>\n",
       "    </tr>\n",
       "    <tr>\n",
       "      <th>2002</th>\n",
       "      <td>Willie</td>\n",
       "      <td>Ratliff</td>\n",
       "      <td>66</td>\n",
       "      <td>Captain</td>\n",
       "      <td>Career</td>\n",
       "      <td>Dec 21, 2015</td>\n",
       "      <td>Dec 21, 2015</td>\n",
       "      <td>Stress/Overexertion</td>\n",
       "      <td>Heart Attack</td>\n",
       "      <td>On-Duty</td>\n",
       "      <td>Not on Scene</td>\n",
       "      <td>No</td>\n",
       "      <td>NaN</td>\n",
       "      <td>NaN</td>\n",
       "    </tr>\n",
       "    <tr>\n",
       "      <th>2003</th>\n",
       "      <td>Louis</td>\n",
       "      <td>Patti</td>\n",
       "      <td>67</td>\n",
       "      <td>Fire Police Officer</td>\n",
       "      <td>Volunteer</td>\n",
       "      <td>Dec 6, 2015</td>\n",
       "      <td>Dec 22, 2015</td>\n",
       "      <td>Stress/Overexertion</td>\n",
       "      <td>Stroke</td>\n",
       "      <td>On-Duty</td>\n",
       "      <td>Not on Scene</td>\n",
       "      <td>No</td>\n",
       "      <td>NaN</td>\n",
       "      <td>NaN</td>\n",
       "    </tr>\n",
       "    <tr>\n",
       "      <th>2004</th>\n",
       "      <td>Patrick</td>\n",
       "      <td>Wolterman</td>\n",
       "      <td>28</td>\n",
       "      <td>Firefighter</td>\n",
       "      <td>Career</td>\n",
       "      <td>Dec 28, 2015</td>\n",
       "      <td>Dec 28, 2015</td>\n",
       "      <td>Collapse</td>\n",
       "      <td>Suffocation</td>\n",
       "      <td>On-Scene Fire</td>\n",
       "      <td>Advance Hose Lines/Fire Attack</td>\n",
       "      <td>Yes</td>\n",
       "      <td>Residential</td>\n",
       "      <td>NaN</td>\n",
       "    </tr>\n",
       "  </tbody>\n",
       "</table>\n",
       "<p>2005 rows × 14 columns</p>\n",
       "</div>"
      ],
      "text/plain": [
       "     First Name    Last Name Age                     Rank Classification  \\\n",
       "0        Robert      Pollard  64              Firefighter      Volunteer   \n",
       "1           Lee        Purdy  57  Pump Operator/Inspector      Volunteer   \n",
       "2        Ronald      Osadacz  36    First Assistant Chief      Volunteer   \n",
       "3         Allen     Streeter  58              Firefighter      Volunteer   \n",
       "4          Gary  Bankert, Sr  37              Firefighter      Volunteer   \n",
       "...         ...          ...  ..                      ...            ...   \n",
       "2000       Jack         Rose  19                  Captain      Volunteer   \n",
       "2001      Stacy     Crawford  47              Firefighter      Volunteer   \n",
       "2002     Willie      Ratliff  66                  Captain         Career   \n",
       "2003      Louis        Patti  67      Fire Police Officer      Volunteer   \n",
       "2004    Patrick    Wolterman  28              Firefighter         Career   \n",
       "\n",
       "     Date of Incident Date of Death       Cause Of Death Nature Of Death  \\\n",
       "0        Dec 31, 1999   Jan 1, 2000  Stress/Overexertion          Stroke   \n",
       "1         Jan 8, 2000   Jan 8, 2000  Stress/Overexertion    Heart Attack   \n",
       "2        Jan 11, 2000  Jan 11, 2000  Stress/Overexertion    Heart Attack   \n",
       "3        Jan 11, 2000  Jan 11, 2000  Stress/Overexertion    Heart Attack   \n",
       "4        Jan 15, 2000  Jan 15, 2000              Trapped     Suffocation   \n",
       "...               ...           ...                  ...             ...   \n",
       "2000     Dec 19, 2015  Dec 19, 2015       Disorientation     Suffocation   \n",
       "2001     Dec 19, 2015  Dec 19, 2015  Stress/Overexertion    Heart Attack   \n",
       "2002     Dec 21, 2015  Dec 21, 2015  Stress/Overexertion    Heart Attack   \n",
       "2003      Dec 6, 2015  Dec 22, 2015  Stress/Overexertion          Stroke   \n",
       "2004     Dec 28, 2015  Dec 28, 2015             Collapse     Suffocation   \n",
       "\n",
       "               Duty                        Activity Emergency  \\\n",
       "0          Response               Vehicle Passenger       Yes   \n",
       "1     On-Scene Fire  Advance Hose Lines/Fire Attack       Yes   \n",
       "2          Response  Advance Hose Lines/Fire Attack       Yes   \n",
       "3     On-Scene Fire  Advance Hose Lines/Fire Attack       Yes   \n",
       "4          Training                           Other        No   \n",
       "...             ...                             ...       ...   \n",
       "2000  On-Scene Fire  Advance Hose Lines/Fire Attack       Yes   \n",
       "2001       Training                    Not on Scene        No   \n",
       "2002        On-Duty                    Not on Scene        No   \n",
       "2003        On-Duty                    Not on Scene        No   \n",
       "2004  On-Scene Fire  Advance Hose Lines/Fire Attack       Yes   \n",
       "\n",
       "         Property Type Unnamed: 13  \n",
       "0     Outdoor Property         NaN  \n",
       "1          Residential         NaN  \n",
       "2          Street/Road         NaN  \n",
       "3     Outdoor Property         NaN  \n",
       "4                  NaN         NaN  \n",
       "...                ...         ...  \n",
       "2000       Residential         NaN  \n",
       "2001               NaN         NaN  \n",
       "2002               NaN         NaN  \n",
       "2003               NaN         NaN  \n",
       "2004       Residential         NaN  \n",
       "\n",
       "[2005 rows x 14 columns]"
      ]
     },
     "metadata": {},
     "output_type": "display_data"
    }
   ],
   "source": [
    "df = pd.read_csv('database.csv')\n",
    "pd.options.display.max_columns = None\n",
    "display(df)"
   ]
  },
  {
   "cell_type": "code",
   "execution_count": 4,
   "metadata": {},
   "outputs": [
    {
     "name": "stdout",
     "output_type": "stream",
     "text": [
      "<class 'pandas.core.frame.DataFrame'>\n",
      "RangeIndex: 2005 entries, 0 to 2004\n",
      "Data columns (total 14 columns):\n",
      " #   Column            Non-Null Count  Dtype \n",
      "---  ------            --------------  ----- \n",
      " 0   First Name        2005 non-null   object\n",
      " 1   Last Name         2004 non-null   object\n",
      " 2   Age               1646 non-null   object\n",
      " 3   Rank              1998 non-null   object\n",
      " 4   Classification    2002 non-null   object\n",
      " 5   Date of Incident  2004 non-null   object\n",
      " 6   Date of Death     2005 non-null   object\n",
      " 7   Cause Of Death    1995 non-null   object\n",
      " 8   Nature Of Death   2002 non-null   object\n",
      " 9   Duty              2002 non-null   object\n",
      " 10  Activity          1996 non-null   object\n",
      " 11  Emergency         2005 non-null   object\n",
      " 12  Property Type     1800 non-null   object\n",
      " 13  Unnamed: 13       1 non-null      object\n",
      "dtypes: object(14)\n",
      "memory usage: 219.4+ KB\n"
     ]
    }
   ],
   "source": [
    "df.info()"
   ]
  },
  {
   "cell_type": "markdown",
   "metadata": {},
   "source": [
    "Berdasarkan informasi di atas dapat dilihat ada beberapa kolom yang tipe datanya masih tidak sesuai dan terdapat missing value, sehingga diperlukan data cleaning"
   ]
  },
  {
   "cell_type": "markdown",
   "metadata": {},
   "source": [
    "# Data Cleaning"
   ]
  },
  {
   "cell_type": "code",
   "execution_count": 5,
   "metadata": {},
   "outputs": [
    {
     "data": {
      "text/plain": [
       "array(['Stress/Overexertion', 'Trapped', 'Fall', 'Impact', 'Exposure',\n",
       "       'Vehicle Collision', nan, 'Other', 'Collapse', 'Dec 1, 2003',\n",
       "       'Assault', 'Disorientation', 'Unknown', 'Smoke', 'Contact'],\n",
       "      dtype=object)"
      ]
     },
     "execution_count": 5,
     "metadata": {},
     "output_type": "execute_result"
    }
   ],
   "source": [
    "df['Cause Of Death'].unique()"
   ]
  },
  {
   "cell_type": "code",
   "execution_count": 6,
   "metadata": {},
   "outputs": [
    {
     "data": {
      "text/html": [
       "<div>\n",
       "<style scoped>\n",
       "    .dataframe tbody tr th:only-of-type {\n",
       "        vertical-align: middle;\n",
       "    }\n",
       "\n",
       "    .dataframe tbody tr th {\n",
       "        vertical-align: top;\n",
       "    }\n",
       "\n",
       "    .dataframe thead th {\n",
       "        text-align: right;\n",
       "    }\n",
       "</style>\n",
       "<table border=\"1\" class=\"dataframe\">\n",
       "  <thead>\n",
       "    <tr style=\"text-align: right;\">\n",
       "      <th></th>\n",
       "      <th>First Name</th>\n",
       "      <th>Last Name</th>\n",
       "      <th>Age</th>\n",
       "      <th>Rank</th>\n",
       "      <th>Classification</th>\n",
       "      <th>Date of Incident</th>\n",
       "      <th>Date of Death</th>\n",
       "      <th>Cause Of Death</th>\n",
       "      <th>Nature Of Death</th>\n",
       "      <th>Duty</th>\n",
       "      <th>Activity</th>\n",
       "      <th>Emergency</th>\n",
       "      <th>Property Type</th>\n",
       "      <th>Unnamed: 13</th>\n",
       "    </tr>\n",
       "  </thead>\n",
       "  <tbody>\n",
       "    <tr>\n",
       "      <th>761</th>\n",
       "      <td>Nadar</td>\n",
       "      <td>NaN</td>\n",
       "      <td>Hammett</td>\n",
       "      <td>29</td>\n",
       "      <td>Firefighter/EMT</td>\n",
       "      <td>Career</td>\n",
       "      <td>Dec 1, 2003</td>\n",
       "      <td>Dec 1, 2003</td>\n",
       "      <td>Impact</td>\n",
       "      <td>No</td>\n",
       "      <td>Trauma</td>\n",
       "      <td>Personal Vehicle Driver/Passenger</td>\n",
       "      <td>Training</td>\n",
       "      <td>Street/Road</td>\n",
       "    </tr>\n",
       "  </tbody>\n",
       "</table>\n",
       "</div>"
      ],
      "text/plain": [
       "    First Name Last Name      Age Rank   Classification Date of Incident  \\\n",
       "761     Nadar        NaN  Hammett   29  Firefighter/EMT           Career   \n",
       "\n",
       "    Date of Death Cause Of Death Nature Of Death Duty Activity  \\\n",
       "761   Dec 1, 2003    Dec 1, 2003          Impact   No   Trauma   \n",
       "\n",
       "                             Emergency Property Type  Unnamed: 13  \n",
       "761  Personal Vehicle Driver/Passenger      Training  Street/Road  "
      ]
     },
     "execution_count": 6,
     "metadata": {},
     "output_type": "execute_result"
    }
   ],
   "source": [
    "df[df['Cause Of Death']=='Dec 1, 2003']"
   ]
  },
  {
   "cell_type": "markdown",
   "metadata": {},
   "source": [
    "## Membenarkan Data di Index ke 761 yang tertukar"
   ]
  },
  {
   "cell_type": "code",
   "execution_count": 7,
   "metadata": {},
   "outputs": [],
   "source": [
    "df['Last Name']=df['Last Name'].fillna('Hammett')"
   ]
  },
  {
   "cell_type": "code",
   "execution_count": 8,
   "metadata": {},
   "outputs": [],
   "source": [
    "df['Age'] = df['Age'].replace('Hammett','29')"
   ]
  },
  {
   "cell_type": "code",
   "execution_count": 9,
   "metadata": {},
   "outputs": [],
   "source": [
    "df['Rank'] = df['Rank'].replace('29','Firefighter/EMT')"
   ]
  },
  {
   "cell_type": "code",
   "execution_count": 10,
   "metadata": {},
   "outputs": [],
   "source": [
    "df['Classification'] = df['Classification'].replace('Firefighter/EMT','Career')"
   ]
  },
  {
   "cell_type": "code",
   "execution_count": 11,
   "metadata": {},
   "outputs": [],
   "source": [
    "df['Date of Incident'] = df['Date of Incident'].replace('Career','Dec 1, 2003')"
   ]
  },
  {
   "cell_type": "code",
   "execution_count": 12,
   "metadata": {},
   "outputs": [],
   "source": [
    "df['Cause Of Death'] = df['Cause Of Death'].replace('Dec 1, 2003','Impact')"
   ]
  },
  {
   "cell_type": "code",
   "execution_count": 13,
   "metadata": {},
   "outputs": [],
   "source": [
    "df['Duty'] = df['Duty'].replace('No','Training')"
   ]
  },
  {
   "cell_type": "code",
   "execution_count": 14,
   "metadata": {},
   "outputs": [],
   "source": [
    "df['Nature Of Death'] = df['Nature Of Death'].replace('Impact','Trauma')"
   ]
  },
  {
   "cell_type": "code",
   "execution_count": 15,
   "metadata": {},
   "outputs": [],
   "source": [
    "df['Activity'] = df['Activity'].replace('Trauma','Personal Vehicle Driver/Passenger')"
   ]
  },
  {
   "cell_type": "code",
   "execution_count": 16,
   "metadata": {},
   "outputs": [],
   "source": [
    "df['Emergency'] = df['Emergency'].replace('Personal Vehicle Driver/Passenger','No')"
   ]
  },
  {
   "cell_type": "code",
   "execution_count": 17,
   "metadata": {},
   "outputs": [],
   "source": [
    "df['Property Type'] = df['Property Type'].replace('Training','Street/Road')"
   ]
  },
  {
   "cell_type": "code",
   "execution_count": 18,
   "metadata": {},
   "outputs": [
    {
     "data": {
      "text/plain": [
       "First Name                                     Nadar \n",
       "Last Name                                     Hammett\n",
       "Age                                                29\n",
       "Rank                                  Firefighter/EMT\n",
       "Classification                                 Career\n",
       "Date of Incident                          Dec 1, 2003\n",
       "Date of Death                             Dec 1, 2003\n",
       "Cause Of Death                                 Impact\n",
       "Nature Of Death                                Trauma\n",
       "Duty                                         Training\n",
       "Activity            Personal Vehicle Driver/Passenger\n",
       "Emergency                                          No\n",
       "Property Type                             Street/Road\n",
       "Unnamed: 13                               Street/Road\n",
       "Name: 761, dtype: object"
      ]
     },
     "execution_count": 18,
     "metadata": {},
     "output_type": "execute_result"
    }
   ],
   "source": [
    "df.iloc[761]"
   ]
  },
  {
   "cell_type": "markdown",
   "metadata": {},
   "source": [
    "## Membuang Kolom Unnamed: 13"
   ]
  },
  {
   "cell_type": "code",
   "execution_count": 19,
   "metadata": {},
   "outputs": [],
   "source": [
    "df.drop('Unnamed: 13',axis='columns', inplace=True)"
   ]
  },
  {
   "cell_type": "code",
   "execution_count": 20,
   "metadata": {},
   "outputs": [
    {
     "data": {
      "text/html": [
       "<div>\n",
       "<style scoped>\n",
       "    .dataframe tbody tr th:only-of-type {\n",
       "        vertical-align: middle;\n",
       "    }\n",
       "\n",
       "    .dataframe tbody tr th {\n",
       "        vertical-align: top;\n",
       "    }\n",
       "\n",
       "    .dataframe thead th {\n",
       "        text-align: right;\n",
       "    }\n",
       "</style>\n",
       "<table border=\"1\" class=\"dataframe\">\n",
       "  <thead>\n",
       "    <tr style=\"text-align: right;\">\n",
       "      <th></th>\n",
       "      <th>First Name</th>\n",
       "      <th>Last Name</th>\n",
       "      <th>Age</th>\n",
       "      <th>Rank</th>\n",
       "      <th>Classification</th>\n",
       "      <th>Date of Incident</th>\n",
       "      <th>Date of Death</th>\n",
       "      <th>Cause Of Death</th>\n",
       "      <th>Nature Of Death</th>\n",
       "      <th>Duty</th>\n",
       "      <th>Activity</th>\n",
       "      <th>Emergency</th>\n",
       "      <th>Property Type</th>\n",
       "    </tr>\n",
       "  </thead>\n",
       "  <tbody>\n",
       "    <tr>\n",
       "      <th>0</th>\n",
       "      <td>Robert</td>\n",
       "      <td>Pollard</td>\n",
       "      <td>64</td>\n",
       "      <td>Firefighter</td>\n",
       "      <td>Volunteer</td>\n",
       "      <td>Dec 31, 1999</td>\n",
       "      <td>Jan 1, 2000</td>\n",
       "      <td>Stress/Overexertion</td>\n",
       "      <td>Stroke</td>\n",
       "      <td>Response</td>\n",
       "      <td>Vehicle Passenger</td>\n",
       "      <td>Yes</td>\n",
       "      <td>Outdoor Property</td>\n",
       "    </tr>\n",
       "    <tr>\n",
       "      <th>1</th>\n",
       "      <td>Lee</td>\n",
       "      <td>Purdy</td>\n",
       "      <td>57</td>\n",
       "      <td>Pump Operator/Inspector</td>\n",
       "      <td>Volunteer</td>\n",
       "      <td>Jan 8, 2000</td>\n",
       "      <td>Jan 8, 2000</td>\n",
       "      <td>Stress/Overexertion</td>\n",
       "      <td>Heart Attack</td>\n",
       "      <td>On-Scene Fire</td>\n",
       "      <td>Advance Hose Lines/Fire Attack</td>\n",
       "      <td>Yes</td>\n",
       "      <td>Residential</td>\n",
       "    </tr>\n",
       "    <tr>\n",
       "      <th>2</th>\n",
       "      <td>Ronald</td>\n",
       "      <td>Osadacz</td>\n",
       "      <td>36</td>\n",
       "      <td>First Assistant Chief</td>\n",
       "      <td>Volunteer</td>\n",
       "      <td>Jan 11, 2000</td>\n",
       "      <td>Jan 11, 2000</td>\n",
       "      <td>Stress/Overexertion</td>\n",
       "      <td>Heart Attack</td>\n",
       "      <td>Response</td>\n",
       "      <td>Advance Hose Lines/Fire Attack</td>\n",
       "      <td>Yes</td>\n",
       "      <td>Street/Road</td>\n",
       "    </tr>\n",
       "    <tr>\n",
       "      <th>3</th>\n",
       "      <td>Allen</td>\n",
       "      <td>Streeter</td>\n",
       "      <td>58</td>\n",
       "      <td>Firefighter</td>\n",
       "      <td>Volunteer</td>\n",
       "      <td>Jan 11, 2000</td>\n",
       "      <td>Jan 11, 2000</td>\n",
       "      <td>Stress/Overexertion</td>\n",
       "      <td>Heart Attack</td>\n",
       "      <td>On-Scene Fire</td>\n",
       "      <td>Advance Hose Lines/Fire Attack</td>\n",
       "      <td>Yes</td>\n",
       "      <td>Outdoor Property</td>\n",
       "    </tr>\n",
       "    <tr>\n",
       "      <th>4</th>\n",
       "      <td>Gary</td>\n",
       "      <td>Bankert, Sr</td>\n",
       "      <td>37</td>\n",
       "      <td>Firefighter</td>\n",
       "      <td>Volunteer</td>\n",
       "      <td>Jan 15, 2000</td>\n",
       "      <td>Jan 15, 2000</td>\n",
       "      <td>Trapped</td>\n",
       "      <td>Suffocation</td>\n",
       "      <td>Training</td>\n",
       "      <td>Other</td>\n",
       "      <td>No</td>\n",
       "      <td>NaN</td>\n",
       "    </tr>\n",
       "    <tr>\n",
       "      <th>...</th>\n",
       "      <td>...</td>\n",
       "      <td>...</td>\n",
       "      <td>...</td>\n",
       "      <td>...</td>\n",
       "      <td>...</td>\n",
       "      <td>...</td>\n",
       "      <td>...</td>\n",
       "      <td>...</td>\n",
       "      <td>...</td>\n",
       "      <td>...</td>\n",
       "      <td>...</td>\n",
       "      <td>...</td>\n",
       "      <td>...</td>\n",
       "    </tr>\n",
       "    <tr>\n",
       "      <th>2000</th>\n",
       "      <td>Jack</td>\n",
       "      <td>Rose</td>\n",
       "      <td>19</td>\n",
       "      <td>Captain</td>\n",
       "      <td>Volunteer</td>\n",
       "      <td>Dec 19, 2015</td>\n",
       "      <td>Dec 19, 2015</td>\n",
       "      <td>Disorientation</td>\n",
       "      <td>Suffocation</td>\n",
       "      <td>On-Scene Fire</td>\n",
       "      <td>Advance Hose Lines/Fire Attack</td>\n",
       "      <td>Yes</td>\n",
       "      <td>Residential</td>\n",
       "    </tr>\n",
       "    <tr>\n",
       "      <th>2001</th>\n",
       "      <td>Stacy</td>\n",
       "      <td>Crawford</td>\n",
       "      <td>47</td>\n",
       "      <td>Firefighter</td>\n",
       "      <td>Volunteer</td>\n",
       "      <td>Dec 19, 2015</td>\n",
       "      <td>Dec 19, 2015</td>\n",
       "      <td>Stress/Overexertion</td>\n",
       "      <td>Heart Attack</td>\n",
       "      <td>Training</td>\n",
       "      <td>Not on Scene</td>\n",
       "      <td>No</td>\n",
       "      <td>NaN</td>\n",
       "    </tr>\n",
       "    <tr>\n",
       "      <th>2002</th>\n",
       "      <td>Willie</td>\n",
       "      <td>Ratliff</td>\n",
       "      <td>66</td>\n",
       "      <td>Captain</td>\n",
       "      <td>Career</td>\n",
       "      <td>Dec 21, 2015</td>\n",
       "      <td>Dec 21, 2015</td>\n",
       "      <td>Stress/Overexertion</td>\n",
       "      <td>Heart Attack</td>\n",
       "      <td>On-Duty</td>\n",
       "      <td>Not on Scene</td>\n",
       "      <td>No</td>\n",
       "      <td>NaN</td>\n",
       "    </tr>\n",
       "    <tr>\n",
       "      <th>2003</th>\n",
       "      <td>Louis</td>\n",
       "      <td>Patti</td>\n",
       "      <td>67</td>\n",
       "      <td>Fire Police Officer</td>\n",
       "      <td>Volunteer</td>\n",
       "      <td>Dec 6, 2015</td>\n",
       "      <td>Dec 22, 2015</td>\n",
       "      <td>Stress/Overexertion</td>\n",
       "      <td>Stroke</td>\n",
       "      <td>On-Duty</td>\n",
       "      <td>Not on Scene</td>\n",
       "      <td>No</td>\n",
       "      <td>NaN</td>\n",
       "    </tr>\n",
       "    <tr>\n",
       "      <th>2004</th>\n",
       "      <td>Patrick</td>\n",
       "      <td>Wolterman</td>\n",
       "      <td>28</td>\n",
       "      <td>Firefighter</td>\n",
       "      <td>Career</td>\n",
       "      <td>Dec 28, 2015</td>\n",
       "      <td>Dec 28, 2015</td>\n",
       "      <td>Collapse</td>\n",
       "      <td>Suffocation</td>\n",
       "      <td>On-Scene Fire</td>\n",
       "      <td>Advance Hose Lines/Fire Attack</td>\n",
       "      <td>Yes</td>\n",
       "      <td>Residential</td>\n",
       "    </tr>\n",
       "  </tbody>\n",
       "</table>\n",
       "<p>2005 rows × 13 columns</p>\n",
       "</div>"
      ],
      "text/plain": [
       "     First Name    Last Name Age                     Rank Classification  \\\n",
       "0        Robert      Pollard  64              Firefighter      Volunteer   \n",
       "1           Lee        Purdy  57  Pump Operator/Inspector      Volunteer   \n",
       "2        Ronald      Osadacz  36    First Assistant Chief      Volunteer   \n",
       "3         Allen     Streeter  58              Firefighter      Volunteer   \n",
       "4          Gary  Bankert, Sr  37              Firefighter      Volunteer   \n",
       "...         ...          ...  ..                      ...            ...   \n",
       "2000       Jack         Rose  19                  Captain      Volunteer   \n",
       "2001      Stacy     Crawford  47              Firefighter      Volunteer   \n",
       "2002     Willie      Ratliff  66                  Captain         Career   \n",
       "2003      Louis        Patti  67      Fire Police Officer      Volunteer   \n",
       "2004    Patrick    Wolterman  28              Firefighter         Career   \n",
       "\n",
       "     Date of Incident Date of Death       Cause Of Death Nature Of Death  \\\n",
       "0        Dec 31, 1999   Jan 1, 2000  Stress/Overexertion          Stroke   \n",
       "1         Jan 8, 2000   Jan 8, 2000  Stress/Overexertion    Heart Attack   \n",
       "2        Jan 11, 2000  Jan 11, 2000  Stress/Overexertion    Heart Attack   \n",
       "3        Jan 11, 2000  Jan 11, 2000  Stress/Overexertion    Heart Attack   \n",
       "4        Jan 15, 2000  Jan 15, 2000              Trapped     Suffocation   \n",
       "...               ...           ...                  ...             ...   \n",
       "2000     Dec 19, 2015  Dec 19, 2015       Disorientation     Suffocation   \n",
       "2001     Dec 19, 2015  Dec 19, 2015  Stress/Overexertion    Heart Attack   \n",
       "2002     Dec 21, 2015  Dec 21, 2015  Stress/Overexertion    Heart Attack   \n",
       "2003      Dec 6, 2015  Dec 22, 2015  Stress/Overexertion          Stroke   \n",
       "2004     Dec 28, 2015  Dec 28, 2015             Collapse     Suffocation   \n",
       "\n",
       "               Duty                        Activity Emergency  \\\n",
       "0          Response               Vehicle Passenger       Yes   \n",
       "1     On-Scene Fire  Advance Hose Lines/Fire Attack       Yes   \n",
       "2          Response  Advance Hose Lines/Fire Attack       Yes   \n",
       "3     On-Scene Fire  Advance Hose Lines/Fire Attack       Yes   \n",
       "4          Training                           Other        No   \n",
       "...             ...                             ...       ...   \n",
       "2000  On-Scene Fire  Advance Hose Lines/Fire Attack       Yes   \n",
       "2001       Training                    Not on Scene        No   \n",
       "2002        On-Duty                    Not on Scene        No   \n",
       "2003        On-Duty                    Not on Scene        No   \n",
       "2004  On-Scene Fire  Advance Hose Lines/Fire Attack       Yes   \n",
       "\n",
       "         Property Type  \n",
       "0     Outdoor Property  \n",
       "1          Residential  \n",
       "2          Street/Road  \n",
       "3     Outdoor Property  \n",
       "4                  NaN  \n",
       "...                ...  \n",
       "2000       Residential  \n",
       "2001               NaN  \n",
       "2002               NaN  \n",
       "2003               NaN  \n",
       "2004       Residential  \n",
       "\n",
       "[2005 rows x 13 columns]"
      ]
     },
     "execution_count": 20,
     "metadata": {},
     "output_type": "execute_result"
    }
   ],
   "source": [
    "df"
   ]
  },
  {
   "cell_type": "markdown",
   "metadata": {},
   "source": [
    "## Mengubah Tipe Data Age dari Object Menjadi Float"
   ]
  },
  {
   "cell_type": "code",
   "execution_count": 21,
   "metadata": {},
   "outputs": [],
   "source": [
    "df['Age'] = df['Age'].astype('float', errors='ignore')"
   ]
  },
  {
   "cell_type": "markdown",
   "metadata": {},
   "source": [
    "## Mengubah Tipe Data Date of Death dan Date of Incident Menjadi Datetime"
   ]
  },
  {
   "cell_type": "code",
   "execution_count": 22,
   "metadata": {},
   "outputs": [],
   "source": [
    "df['Date of Death'] = pd.to_datetime(df['Date of Death'])\n",
    "df['Date of Incident'] = pd.to_datetime(df['Date of Incident'])"
   ]
  },
  {
   "cell_type": "markdown",
   "metadata": {},
   "source": [
    "## Mengambil Kolom yang Digunakan Untuk Analisis"
   ]
  },
  {
   "cell_type": "code",
   "execution_count": 23,
   "metadata": {},
   "outputs": [],
   "source": [
    "df1 = df[['Nature Of Death','Age','Cause Of Death']]"
   ]
  },
  {
   "cell_type": "code",
   "execution_count": 24,
   "metadata": {},
   "outputs": [
    {
     "data": {
      "text/html": [
       "<div>\n",
       "<style scoped>\n",
       "    .dataframe tbody tr th:only-of-type {\n",
       "        vertical-align: middle;\n",
       "    }\n",
       "\n",
       "    .dataframe tbody tr th {\n",
       "        vertical-align: top;\n",
       "    }\n",
       "\n",
       "    .dataframe thead th {\n",
       "        text-align: right;\n",
       "    }\n",
       "</style>\n",
       "<table border=\"1\" class=\"dataframe\">\n",
       "  <thead>\n",
       "    <tr style=\"text-align: right;\">\n",
       "      <th></th>\n",
       "      <th>Nature Of Death</th>\n",
       "      <th>Age</th>\n",
       "      <th>Cause Of Death</th>\n",
       "    </tr>\n",
       "  </thead>\n",
       "  <tbody>\n",
       "    <tr>\n",
       "      <th>0</th>\n",
       "      <td>Stroke</td>\n",
       "      <td>64.0</td>\n",
       "      <td>Stress/Overexertion</td>\n",
       "    </tr>\n",
       "    <tr>\n",
       "      <th>1</th>\n",
       "      <td>Heart Attack</td>\n",
       "      <td>57.0</td>\n",
       "      <td>Stress/Overexertion</td>\n",
       "    </tr>\n",
       "    <tr>\n",
       "      <th>2</th>\n",
       "      <td>Heart Attack</td>\n",
       "      <td>36.0</td>\n",
       "      <td>Stress/Overexertion</td>\n",
       "    </tr>\n",
       "    <tr>\n",
       "      <th>3</th>\n",
       "      <td>Heart Attack</td>\n",
       "      <td>58.0</td>\n",
       "      <td>Stress/Overexertion</td>\n",
       "    </tr>\n",
       "    <tr>\n",
       "      <th>4</th>\n",
       "      <td>Suffocation</td>\n",
       "      <td>37.0</td>\n",
       "      <td>Trapped</td>\n",
       "    </tr>\n",
       "    <tr>\n",
       "      <th>...</th>\n",
       "      <td>...</td>\n",
       "      <td>...</td>\n",
       "      <td>...</td>\n",
       "    </tr>\n",
       "    <tr>\n",
       "      <th>2000</th>\n",
       "      <td>Suffocation</td>\n",
       "      <td>19.0</td>\n",
       "      <td>Disorientation</td>\n",
       "    </tr>\n",
       "    <tr>\n",
       "      <th>2001</th>\n",
       "      <td>Heart Attack</td>\n",
       "      <td>47.0</td>\n",
       "      <td>Stress/Overexertion</td>\n",
       "    </tr>\n",
       "    <tr>\n",
       "      <th>2002</th>\n",
       "      <td>Heart Attack</td>\n",
       "      <td>66.0</td>\n",
       "      <td>Stress/Overexertion</td>\n",
       "    </tr>\n",
       "    <tr>\n",
       "      <th>2003</th>\n",
       "      <td>Stroke</td>\n",
       "      <td>67.0</td>\n",
       "      <td>Stress/Overexertion</td>\n",
       "    </tr>\n",
       "    <tr>\n",
       "      <th>2004</th>\n",
       "      <td>Suffocation</td>\n",
       "      <td>28.0</td>\n",
       "      <td>Collapse</td>\n",
       "    </tr>\n",
       "  </tbody>\n",
       "</table>\n",
       "<p>2005 rows × 3 columns</p>\n",
       "</div>"
      ],
      "text/plain": [
       "     Nature Of Death   Age       Cause Of Death\n",
       "0             Stroke  64.0  Stress/Overexertion\n",
       "1       Heart Attack  57.0  Stress/Overexertion\n",
       "2       Heart Attack  36.0  Stress/Overexertion\n",
       "3       Heart Attack  58.0  Stress/Overexertion\n",
       "4        Suffocation  37.0              Trapped\n",
       "...              ...   ...                  ...\n",
       "2000     Suffocation  19.0       Disorientation\n",
       "2001    Heart Attack  47.0  Stress/Overexertion\n",
       "2002    Heart Attack  66.0  Stress/Overexertion\n",
       "2003          Stroke  67.0  Stress/Overexertion\n",
       "2004     Suffocation  28.0             Collapse\n",
       "\n",
       "[2005 rows x 3 columns]"
      ]
     },
     "execution_count": 24,
     "metadata": {},
     "output_type": "execute_result"
    }
   ],
   "source": [
    "df1"
   ]
  },
  {
   "cell_type": "markdown",
   "metadata": {},
   "source": [
    "## Analisis"
   ]
  },
  {
   "cell_type": "markdown",
   "metadata": {},
   "source": [
    "## Mengelompokkan Kolom Umur Menjadi Dalam Bentuk Rentang Umur"
   ]
  },
  {
   "cell_type": "code",
   "execution_count": 25,
   "metadata": {},
   "outputs": [
    {
     "name": "stderr",
     "output_type": "stream",
     "text": [
      "<ipython-input-25-0a33de0510b0>:3: SettingWithCopyWarning: \n",
      "A value is trying to be set on a copy of a slice from a DataFrame.\n",
      "Try using .loc[row_indexer,col_indexer] = value instead\n",
      "\n",
      "See the caveats in the documentation: https://pandas.pydata.org/pandas-docs/stable/user_guide/indexing.html#returning-a-view-versus-a-copy\n",
      "  df1['Age_bins']= pd.cut(df1['Age'], bins=bins, labels=labels, include_lowest=True)\n"
     ]
    }
   ],
   "source": [
    "bins =[i for i in range(10,111,20)]\n",
    "labels = ['{}-{}'.format(i, j) for i, j in zip(bins[:-1], bins[1:])] \n",
    "df1['Age_bins']= pd.cut(df1['Age'], bins=bins, labels=labels, include_lowest=True)"
   ]
  },
  {
   "cell_type": "markdown",
   "metadata": {},
   "source": [
    "## Pengelompokkan Nature of Death Berdasarkan Rentang Umur"
   ]
  },
  {
   "cell_type": "code",
   "execution_count": 26,
   "metadata": {},
   "outputs": [],
   "source": [
    "df1g = df1[['Nature Of Death','Age_bins']].groupby(['Nature Of Death','Age_bins']).agg({'Nature Of Death':'count'})"
   ]
  },
  {
   "cell_type": "code",
   "execution_count": 27,
   "metadata": {},
   "outputs": [
    {
     "data": {
      "text/html": [
       "<style  type=\"text/css\" >\n",
       "#T_7bdb06f8_b9e4_11eb_b082_b73587ee979erow17_col0{\n",
       "            background-color:  lightgreen;\n",
       "        }</style><table id=\"T_7bdb06f8_b9e4_11eb_b082_b73587ee979e\" ><thead>    <tr>        <th class=\"blank\" ></th>        <th class=\"blank level0\" ></th>        <th class=\"col_heading level0 col0\" >Nature Of Death</th>    </tr>    <tr>        <th class=\"index_name level0\" >Nature Of Death</th>        <th class=\"index_name level1\" >Age_bins</th>        <th class=\"blank\" ></th>    </tr></thead><tbody>\n",
       "                <tr>\n",
       "                        <th id=\"T_7bdb06f8_b9e4_11eb_b082_b73587ee979elevel0_row0\" class=\"row_heading level0 row0\" rowspan=5>Burns</th>\n",
       "                        <th id=\"T_7bdb06f8_b9e4_11eb_b082_b73587ee979elevel1_row0\" class=\"row_heading level1 row0\" >10-30</th>\n",
       "                        <td id=\"T_7bdb06f8_b9e4_11eb_b082_b73587ee979erow0_col0\" class=\"data row0 col0\" >35</td>\n",
       "            </tr>\n",
       "            <tr>\n",
       "                                <th id=\"T_7bdb06f8_b9e4_11eb_b082_b73587ee979elevel1_row1\" class=\"row_heading level1 row1\" >30-50</th>\n",
       "                        <td id=\"T_7bdb06f8_b9e4_11eb_b082_b73587ee979erow1_col0\" class=\"data row1 col0\" >38</td>\n",
       "            </tr>\n",
       "            <tr>\n",
       "                                <th id=\"T_7bdb06f8_b9e4_11eb_b082_b73587ee979elevel1_row2\" class=\"row_heading level1 row2\" >50-70</th>\n",
       "                        <td id=\"T_7bdb06f8_b9e4_11eb_b082_b73587ee979erow2_col0\" class=\"data row2 col0\" >12</td>\n",
       "            </tr>\n",
       "            <tr>\n",
       "                                <th id=\"T_7bdb06f8_b9e4_11eb_b082_b73587ee979elevel1_row3\" class=\"row_heading level1 row3\" >70-90</th>\n",
       "                        <td id=\"T_7bdb06f8_b9e4_11eb_b082_b73587ee979erow3_col0\" class=\"data row3 col0\" >0</td>\n",
       "            </tr>\n",
       "            <tr>\n",
       "                                <th id=\"T_7bdb06f8_b9e4_11eb_b082_b73587ee979elevel1_row4\" class=\"row_heading level1 row4\" >90-110</th>\n",
       "                        <td id=\"T_7bdb06f8_b9e4_11eb_b082_b73587ee979erow4_col0\" class=\"data row4 col0\" >0</td>\n",
       "            </tr>\n",
       "            <tr>\n",
       "                        <th id=\"T_7bdb06f8_b9e4_11eb_b082_b73587ee979elevel0_row5\" class=\"row_heading level0 row5\" rowspan=5>Drowning</th>\n",
       "                        <th id=\"T_7bdb06f8_b9e4_11eb_b082_b73587ee979elevel1_row5\" class=\"row_heading level1 row5\" >10-30</th>\n",
       "                        <td id=\"T_7bdb06f8_b9e4_11eb_b082_b73587ee979erow5_col0\" class=\"data row5 col0\" >0</td>\n",
       "            </tr>\n",
       "            <tr>\n",
       "                                <th id=\"T_7bdb06f8_b9e4_11eb_b082_b73587ee979elevel1_row6\" class=\"row_heading level1 row6\" >30-50</th>\n",
       "                        <td id=\"T_7bdb06f8_b9e4_11eb_b082_b73587ee979erow6_col0\" class=\"data row6 col0\" >5</td>\n",
       "            </tr>\n",
       "            <tr>\n",
       "                                <th id=\"T_7bdb06f8_b9e4_11eb_b082_b73587ee979elevel1_row7\" class=\"row_heading level1 row7\" >50-70</th>\n",
       "                        <td id=\"T_7bdb06f8_b9e4_11eb_b082_b73587ee979erow7_col0\" class=\"data row7 col0\" >0</td>\n",
       "            </tr>\n",
       "            <tr>\n",
       "                                <th id=\"T_7bdb06f8_b9e4_11eb_b082_b73587ee979elevel1_row8\" class=\"row_heading level1 row8\" >70-90</th>\n",
       "                        <td id=\"T_7bdb06f8_b9e4_11eb_b082_b73587ee979erow8_col0\" class=\"data row8 col0\" >0</td>\n",
       "            </tr>\n",
       "            <tr>\n",
       "                                <th id=\"T_7bdb06f8_b9e4_11eb_b082_b73587ee979elevel1_row9\" class=\"row_heading level1 row9\" >90-110</th>\n",
       "                        <td id=\"T_7bdb06f8_b9e4_11eb_b082_b73587ee979erow9_col0\" class=\"data row9 col0\" >0</td>\n",
       "            </tr>\n",
       "            <tr>\n",
       "                        <th id=\"T_7bdb06f8_b9e4_11eb_b082_b73587ee979elevel0_row10\" class=\"row_heading level0 row10\" rowspan=5>Electrocution</th>\n",
       "                        <th id=\"T_7bdb06f8_b9e4_11eb_b082_b73587ee979elevel1_row10\" class=\"row_heading level1 row10\" >10-30</th>\n",
       "                        <td id=\"T_7bdb06f8_b9e4_11eb_b082_b73587ee979erow10_col0\" class=\"data row10 col0\" >2</td>\n",
       "            </tr>\n",
       "            <tr>\n",
       "                                <th id=\"T_7bdb06f8_b9e4_11eb_b082_b73587ee979elevel1_row11\" class=\"row_heading level1 row11\" >30-50</th>\n",
       "                        <td id=\"T_7bdb06f8_b9e4_11eb_b082_b73587ee979erow11_col0\" class=\"data row11 col0\" >7</td>\n",
       "            </tr>\n",
       "            <tr>\n",
       "                                <th id=\"T_7bdb06f8_b9e4_11eb_b082_b73587ee979elevel1_row12\" class=\"row_heading level1 row12\" >50-70</th>\n",
       "                        <td id=\"T_7bdb06f8_b9e4_11eb_b082_b73587ee979erow12_col0\" class=\"data row12 col0\" >3</td>\n",
       "            </tr>\n",
       "            <tr>\n",
       "                                <th id=\"T_7bdb06f8_b9e4_11eb_b082_b73587ee979elevel1_row13\" class=\"row_heading level1 row13\" >70-90</th>\n",
       "                        <td id=\"T_7bdb06f8_b9e4_11eb_b082_b73587ee979erow13_col0\" class=\"data row13 col0\" >0</td>\n",
       "            </tr>\n",
       "            <tr>\n",
       "                                <th id=\"T_7bdb06f8_b9e4_11eb_b082_b73587ee979elevel1_row14\" class=\"row_heading level1 row14\" >90-110</th>\n",
       "                        <td id=\"T_7bdb06f8_b9e4_11eb_b082_b73587ee979erow14_col0\" class=\"data row14 col0\" >0</td>\n",
       "            </tr>\n",
       "            <tr>\n",
       "                        <th id=\"T_7bdb06f8_b9e4_11eb_b082_b73587ee979elevel0_row15\" class=\"row_heading level0 row15\" rowspan=5>Heart Attack</th>\n",
       "                        <th id=\"T_7bdb06f8_b9e4_11eb_b082_b73587ee979elevel1_row15\" class=\"row_heading level1 row15\" >10-30</th>\n",
       "                        <td id=\"T_7bdb06f8_b9e4_11eb_b082_b73587ee979erow15_col0\" class=\"data row15 col0\" >23</td>\n",
       "            </tr>\n",
       "            <tr>\n",
       "                                <th id=\"T_7bdb06f8_b9e4_11eb_b082_b73587ee979elevel1_row16\" class=\"row_heading level1 row16\" >30-50</th>\n",
       "                        <td id=\"T_7bdb06f8_b9e4_11eb_b082_b73587ee979erow16_col0\" class=\"data row16 col0\" >310</td>\n",
       "            </tr>\n",
       "            <tr>\n",
       "                                <th id=\"T_7bdb06f8_b9e4_11eb_b082_b73587ee979elevel1_row17\" class=\"row_heading level1 row17\" >50-70</th>\n",
       "                        <td id=\"T_7bdb06f8_b9e4_11eb_b082_b73587ee979erow17_col0\" class=\"data row17 col0\" >381</td>\n",
       "            </tr>\n",
       "            <tr>\n",
       "                                <th id=\"T_7bdb06f8_b9e4_11eb_b082_b73587ee979elevel1_row18\" class=\"row_heading level1 row18\" >70-90</th>\n",
       "                        <td id=\"T_7bdb06f8_b9e4_11eb_b082_b73587ee979erow18_col0\" class=\"data row18 col0\" >51</td>\n",
       "            </tr>\n",
       "            <tr>\n",
       "                                <th id=\"T_7bdb06f8_b9e4_11eb_b082_b73587ee979elevel1_row19\" class=\"row_heading level1 row19\" >90-110</th>\n",
       "                        <td id=\"T_7bdb06f8_b9e4_11eb_b082_b73587ee979erow19_col0\" class=\"data row19 col0\" >1</td>\n",
       "            </tr>\n",
       "            <tr>\n",
       "                        <th id=\"T_7bdb06f8_b9e4_11eb_b082_b73587ee979elevel0_row20\" class=\"row_heading level0 row20\" rowspan=5>Heat Exhaustion</th>\n",
       "                        <th id=\"T_7bdb06f8_b9e4_11eb_b082_b73587ee979elevel1_row20\" class=\"row_heading level1 row20\" >10-30</th>\n",
       "                        <td id=\"T_7bdb06f8_b9e4_11eb_b082_b73587ee979erow20_col0\" class=\"data row20 col0\" >3</td>\n",
       "            </tr>\n",
       "            <tr>\n",
       "                                <th id=\"T_7bdb06f8_b9e4_11eb_b082_b73587ee979elevel1_row21\" class=\"row_heading level1 row21\" >30-50</th>\n",
       "                        <td id=\"T_7bdb06f8_b9e4_11eb_b082_b73587ee979erow21_col0\" class=\"data row21 col0\" >1</td>\n",
       "            </tr>\n",
       "            <tr>\n",
       "                                <th id=\"T_7bdb06f8_b9e4_11eb_b082_b73587ee979elevel1_row22\" class=\"row_heading level1 row22\" >50-70</th>\n",
       "                        <td id=\"T_7bdb06f8_b9e4_11eb_b082_b73587ee979erow22_col0\" class=\"data row22 col0\" >1</td>\n",
       "            </tr>\n",
       "            <tr>\n",
       "                                <th id=\"T_7bdb06f8_b9e4_11eb_b082_b73587ee979elevel1_row23\" class=\"row_heading level1 row23\" >70-90</th>\n",
       "                        <td id=\"T_7bdb06f8_b9e4_11eb_b082_b73587ee979erow23_col0\" class=\"data row23 col0\" >0</td>\n",
       "            </tr>\n",
       "            <tr>\n",
       "                                <th id=\"T_7bdb06f8_b9e4_11eb_b082_b73587ee979elevel1_row24\" class=\"row_heading level1 row24\" >90-110</th>\n",
       "                        <td id=\"T_7bdb06f8_b9e4_11eb_b082_b73587ee979erow24_col0\" class=\"data row24 col0\" >0</td>\n",
       "            </tr>\n",
       "            <tr>\n",
       "                        <th id=\"T_7bdb06f8_b9e4_11eb_b082_b73587ee979elevel0_row25\" class=\"row_heading level0 row25\" rowspan=5>Other</th>\n",
       "                        <th id=\"T_7bdb06f8_b9e4_11eb_b082_b73587ee979elevel1_row25\" class=\"row_heading level1 row25\" >10-30</th>\n",
       "                        <td id=\"T_7bdb06f8_b9e4_11eb_b082_b73587ee979erow25_col0\" class=\"data row25 col0\" >6</td>\n",
       "            </tr>\n",
       "            <tr>\n",
       "                                <th id=\"T_7bdb06f8_b9e4_11eb_b082_b73587ee979elevel1_row26\" class=\"row_heading level1 row26\" >30-50</th>\n",
       "                        <td id=\"T_7bdb06f8_b9e4_11eb_b082_b73587ee979erow26_col0\" class=\"data row26 col0\" >22</td>\n",
       "            </tr>\n",
       "            <tr>\n",
       "                                <th id=\"T_7bdb06f8_b9e4_11eb_b082_b73587ee979elevel1_row27\" class=\"row_heading level1 row27\" >50-70</th>\n",
       "                        <td id=\"T_7bdb06f8_b9e4_11eb_b082_b73587ee979erow27_col0\" class=\"data row27 col0\" >23</td>\n",
       "            </tr>\n",
       "            <tr>\n",
       "                                <th id=\"T_7bdb06f8_b9e4_11eb_b082_b73587ee979elevel1_row28\" class=\"row_heading level1 row28\" >70-90</th>\n",
       "                        <td id=\"T_7bdb06f8_b9e4_11eb_b082_b73587ee979erow28_col0\" class=\"data row28 col0\" >1</td>\n",
       "            </tr>\n",
       "            <tr>\n",
       "                                <th id=\"T_7bdb06f8_b9e4_11eb_b082_b73587ee979elevel1_row29\" class=\"row_heading level1 row29\" >90-110</th>\n",
       "                        <td id=\"T_7bdb06f8_b9e4_11eb_b082_b73587ee979erow29_col0\" class=\"data row29 col0\" >0</td>\n",
       "            </tr>\n",
       "            <tr>\n",
       "                        <th id=\"T_7bdb06f8_b9e4_11eb_b082_b73587ee979elevel0_row30\" class=\"row_heading level0 row30\" rowspan=5>Stroke</th>\n",
       "                        <th id=\"T_7bdb06f8_b9e4_11eb_b082_b73587ee979elevel1_row30\" class=\"row_heading level1 row30\" >10-30</th>\n",
       "                        <td id=\"T_7bdb06f8_b9e4_11eb_b082_b73587ee979erow30_col0\" class=\"data row30 col0\" >2</td>\n",
       "            </tr>\n",
       "            <tr>\n",
       "                                <th id=\"T_7bdb06f8_b9e4_11eb_b082_b73587ee979elevel1_row31\" class=\"row_heading level1 row31\" >30-50</th>\n",
       "                        <td id=\"T_7bdb06f8_b9e4_11eb_b082_b73587ee979erow31_col0\" class=\"data row31 col0\" >24</td>\n",
       "            </tr>\n",
       "            <tr>\n",
       "                                <th id=\"T_7bdb06f8_b9e4_11eb_b082_b73587ee979elevel1_row32\" class=\"row_heading level1 row32\" >50-70</th>\n",
       "                        <td id=\"T_7bdb06f8_b9e4_11eb_b082_b73587ee979erow32_col0\" class=\"data row32 col0\" >29</td>\n",
       "            </tr>\n",
       "            <tr>\n",
       "                                <th id=\"T_7bdb06f8_b9e4_11eb_b082_b73587ee979elevel1_row33\" class=\"row_heading level1 row33\" >70-90</th>\n",
       "                        <td id=\"T_7bdb06f8_b9e4_11eb_b082_b73587ee979erow33_col0\" class=\"data row33 col0\" >4</td>\n",
       "            </tr>\n",
       "            <tr>\n",
       "                                <th id=\"T_7bdb06f8_b9e4_11eb_b082_b73587ee979elevel1_row34\" class=\"row_heading level1 row34\" >90-110</th>\n",
       "                        <td id=\"T_7bdb06f8_b9e4_11eb_b082_b73587ee979erow34_col0\" class=\"data row34 col0\" >0</td>\n",
       "            </tr>\n",
       "            <tr>\n",
       "                        <th id=\"T_7bdb06f8_b9e4_11eb_b082_b73587ee979elevel0_row35\" class=\"row_heading level0 row35\" rowspan=5>Suffocation</th>\n",
       "                        <th id=\"T_7bdb06f8_b9e4_11eb_b082_b73587ee979elevel1_row35\" class=\"row_heading level1 row35\" >10-30</th>\n",
       "                        <td id=\"T_7bdb06f8_b9e4_11eb_b082_b73587ee979erow35_col0\" class=\"data row35 col0\" >45</td>\n",
       "            </tr>\n",
       "            <tr>\n",
       "                                <th id=\"T_7bdb06f8_b9e4_11eb_b082_b73587ee979elevel1_row36\" class=\"row_heading level1 row36\" >30-50</th>\n",
       "                        <td id=\"T_7bdb06f8_b9e4_11eb_b082_b73587ee979erow36_col0\" class=\"data row36 col0\" >80</td>\n",
       "            </tr>\n",
       "            <tr>\n",
       "                                <th id=\"T_7bdb06f8_b9e4_11eb_b082_b73587ee979elevel1_row37\" class=\"row_heading level1 row37\" >50-70</th>\n",
       "                        <td id=\"T_7bdb06f8_b9e4_11eb_b082_b73587ee979erow37_col0\" class=\"data row37 col0\" >15</td>\n",
       "            </tr>\n",
       "            <tr>\n",
       "                                <th id=\"T_7bdb06f8_b9e4_11eb_b082_b73587ee979elevel1_row38\" class=\"row_heading level1 row38\" >70-90</th>\n",
       "                        <td id=\"T_7bdb06f8_b9e4_11eb_b082_b73587ee979erow38_col0\" class=\"data row38 col0\" >1</td>\n",
       "            </tr>\n",
       "            <tr>\n",
       "                                <th id=\"T_7bdb06f8_b9e4_11eb_b082_b73587ee979elevel1_row39\" class=\"row_heading level1 row39\" >90-110</th>\n",
       "                        <td id=\"T_7bdb06f8_b9e4_11eb_b082_b73587ee979erow39_col0\" class=\"data row39 col0\" >0</td>\n",
       "            </tr>\n",
       "            <tr>\n",
       "                        <th id=\"T_7bdb06f8_b9e4_11eb_b082_b73587ee979elevel0_row40\" class=\"row_heading level0 row40\" rowspan=5>Trauma</th>\n",
       "                        <th id=\"T_7bdb06f8_b9e4_11eb_b082_b73587ee979elevel1_row40\" class=\"row_heading level1 row40\" >10-30</th>\n",
       "                        <td id=\"T_7bdb06f8_b9e4_11eb_b082_b73587ee979erow40_col0\" class=\"data row40 col0\" >156</td>\n",
       "            </tr>\n",
       "            <tr>\n",
       "                                <th id=\"T_7bdb06f8_b9e4_11eb_b082_b73587ee979elevel1_row41\" class=\"row_heading level1 row41\" >30-50</th>\n",
       "                        <td id=\"T_7bdb06f8_b9e4_11eb_b082_b73587ee979erow41_col0\" class=\"data row41 col0\" >209</td>\n",
       "            </tr>\n",
       "            <tr>\n",
       "                                <th id=\"T_7bdb06f8_b9e4_11eb_b082_b73587ee979elevel1_row42\" class=\"row_heading level1 row42\" >50-70</th>\n",
       "                        <td id=\"T_7bdb06f8_b9e4_11eb_b082_b73587ee979erow42_col0\" class=\"data row42 col0\" >118</td>\n",
       "            </tr>\n",
       "            <tr>\n",
       "                                <th id=\"T_7bdb06f8_b9e4_11eb_b082_b73587ee979elevel1_row43\" class=\"row_heading level1 row43\" >70-90</th>\n",
       "                        <td id=\"T_7bdb06f8_b9e4_11eb_b082_b73587ee979erow43_col0\" class=\"data row43 col0\" >19</td>\n",
       "            </tr>\n",
       "            <tr>\n",
       "                                <th id=\"T_7bdb06f8_b9e4_11eb_b082_b73587ee979elevel1_row44\" class=\"row_heading level1 row44\" >90-110</th>\n",
       "                        <td id=\"T_7bdb06f8_b9e4_11eb_b082_b73587ee979erow44_col0\" class=\"data row44 col0\" >1</td>\n",
       "            </tr>\n",
       "            <tr>\n",
       "                        <th id=\"T_7bdb06f8_b9e4_11eb_b082_b73587ee979elevel0_row45\" class=\"row_heading level0 row45\" rowspan=5>Unknown</th>\n",
       "                        <th id=\"T_7bdb06f8_b9e4_11eb_b082_b73587ee979elevel1_row45\" class=\"row_heading level1 row45\" >10-30</th>\n",
       "                        <td id=\"T_7bdb06f8_b9e4_11eb_b082_b73587ee979erow45_col0\" class=\"data row45 col0\" >0</td>\n",
       "            </tr>\n",
       "            <tr>\n",
       "                                <th id=\"T_7bdb06f8_b9e4_11eb_b082_b73587ee979elevel1_row46\" class=\"row_heading level1 row46\" >30-50</th>\n",
       "                        <td id=\"T_7bdb06f8_b9e4_11eb_b082_b73587ee979erow46_col0\" class=\"data row46 col0\" >3</td>\n",
       "            </tr>\n",
       "            <tr>\n",
       "                                <th id=\"T_7bdb06f8_b9e4_11eb_b082_b73587ee979elevel1_row47\" class=\"row_heading level1 row47\" >50-70</th>\n",
       "                        <td id=\"T_7bdb06f8_b9e4_11eb_b082_b73587ee979erow47_col0\" class=\"data row47 col0\" >1</td>\n",
       "            </tr>\n",
       "            <tr>\n",
       "                                <th id=\"T_7bdb06f8_b9e4_11eb_b082_b73587ee979elevel1_row48\" class=\"row_heading level1 row48\" >70-90</th>\n",
       "                        <td id=\"T_7bdb06f8_b9e4_11eb_b082_b73587ee979erow48_col0\" class=\"data row48 col0\" >0</td>\n",
       "            </tr>\n",
       "            <tr>\n",
       "                                <th id=\"T_7bdb06f8_b9e4_11eb_b082_b73587ee979elevel1_row49\" class=\"row_heading level1 row49\" >90-110</th>\n",
       "                        <td id=\"T_7bdb06f8_b9e4_11eb_b082_b73587ee979erow49_col0\" class=\"data row49 col0\" >0</td>\n",
       "            </tr>\n",
       "            <tr>\n",
       "                        <th id=\"T_7bdb06f8_b9e4_11eb_b082_b73587ee979elevel0_row50\" class=\"row_heading level0 row50\" rowspan=5>Violence</th>\n",
       "                        <th id=\"T_7bdb06f8_b9e4_11eb_b082_b73587ee979elevel1_row50\" class=\"row_heading level1 row50\" >10-30</th>\n",
       "                        <td id=\"T_7bdb06f8_b9e4_11eb_b082_b73587ee979erow50_col0\" class=\"data row50 col0\" >3</td>\n",
       "            </tr>\n",
       "            <tr>\n",
       "                                <th id=\"T_7bdb06f8_b9e4_11eb_b082_b73587ee979elevel1_row51\" class=\"row_heading level1 row51\" >30-50</th>\n",
       "                        <td id=\"T_7bdb06f8_b9e4_11eb_b082_b73587ee979erow51_col0\" class=\"data row51 col0\" >7</td>\n",
       "            </tr>\n",
       "            <tr>\n",
       "                                <th id=\"T_7bdb06f8_b9e4_11eb_b082_b73587ee979elevel1_row52\" class=\"row_heading level1 row52\" >50-70</th>\n",
       "                        <td id=\"T_7bdb06f8_b9e4_11eb_b082_b73587ee979erow52_col0\" class=\"data row52 col0\" >2</td>\n",
       "            </tr>\n",
       "            <tr>\n",
       "                                <th id=\"T_7bdb06f8_b9e4_11eb_b082_b73587ee979elevel1_row53\" class=\"row_heading level1 row53\" >70-90</th>\n",
       "                        <td id=\"T_7bdb06f8_b9e4_11eb_b082_b73587ee979erow53_col0\" class=\"data row53 col0\" >0</td>\n",
       "            </tr>\n",
       "            <tr>\n",
       "                                <th id=\"T_7bdb06f8_b9e4_11eb_b082_b73587ee979elevel1_row54\" class=\"row_heading level1 row54\" >90-110</th>\n",
       "                        <td id=\"T_7bdb06f8_b9e4_11eb_b082_b73587ee979erow54_col0\" class=\"data row54 col0\" >0</td>\n",
       "            </tr>\n",
       "    </tbody></table>"
      ],
      "text/plain": [
       "<pandas.io.formats.style.Styler at 0x2118ba52af0>"
      ]
     },
     "execution_count": 27,
     "metadata": {},
     "output_type": "execute_result"
    }
   ],
   "source": [
    "df1g.style.highlight_max(color = 'lightgreen',subset=['Nature Of Death'],axis=0)"
   ]
  },
  {
   "cell_type": "code",
   "execution_count": 28,
   "metadata": {},
   "outputs": [
    {
     "data": {
      "image/png": "[encoded data removed]",
      "text/plain": [
       "<Figure size 1800x720 with 1 Axes>"
      ]
     },
     "metadata": {
      "needs_background": "light"
     },
     "output_type": "display_data"
    }
   ],
   "source": [
    "df1g['Nature Of Death'].unstack(level=1).plot(kind='bar', figsize=(25,10), fontsize=14)\n",
    "plt.title('Nature of Death untuk Masing-Masing Rentang Umur')\n",
    "plt.ylabel('Count')\n",
    "plt.show()"
   ]
  },
  {
   "cell_type": "markdown",
   "metadata": {},
   "source": [
    "## Faktor Penyebab  Pemadam Kebakaran yang Berumur 30-50 yang meninggal akibat Heart Attack"
   ]
  },
  {
   "cell_type": "markdown",
   "metadata": {},
   "source": [
    "### Mengambil kolom untuk analisis"
   ]
  },
  {
   "cell_type": "code",
   "execution_count": 29,
   "metadata": {},
   "outputs": [],
   "source": [
    "df2 = df1[(df1['Age_bins']=='30-50')&(df1['Nature Of Death']=='Heart Attack')]"
   ]
  },
  {
   "cell_type": "code",
   "execution_count": 30,
   "metadata": {},
   "outputs": [
    {
     "name": "stdout",
     "output_type": "stream",
     "text": [
      "<class 'pandas.core.frame.DataFrame'>\n",
      "Int64Index: 310 entries, 2 to 2001\n",
      "Data columns (total 4 columns):\n",
      " #   Column           Non-Null Count  Dtype   \n",
      "---  ------           --------------  -----   \n",
      " 0   Nature Of Death  310 non-null    object  \n",
      " 1   Age              310 non-null    float64 \n",
      " 2   Cause Of Death   308 non-null    object  \n",
      " 3   Age_bins         310 non-null    category\n",
      "dtypes: category(1), float64(1), object(2)\n",
      "memory usage: 10.2+ KB\n"
     ]
    }
   ],
   "source": [
    "df2.info()"
   ]
  },
  {
   "cell_type": "markdown",
   "metadata": {},
   "source": [
    "Pada Kolom Age masih terdapat missing value, sehingga perlu membuang missing value"
   ]
  },
  {
   "cell_type": "code",
   "execution_count": 31,
   "metadata": {},
   "outputs": [
    {
     "name": "stderr",
     "output_type": "stream",
     "text": [
      "<ipython-input-31-f66736151044>:1: SettingWithCopyWarning: \n",
      "A value is trying to be set on a copy of a slice from a DataFrame\n",
      "\n",
      "See the caveats in the documentation: https://pandas.pydata.org/pandas-docs/stable/user_guide/indexing.html#returning-a-view-versus-a-copy\n",
      "  df2.dropna(inplace=True)\n"
     ]
    }
   ],
   "source": [
    "df2.dropna(inplace=True)"
   ]
  },
  {
   "cell_type": "code",
   "execution_count": 32,
   "metadata": {},
   "outputs": [],
   "source": [
    "count = pd.DataFrame(df2['Cause Of Death'].value_counts())"
   ]
  },
  {
   "cell_type": "code",
   "execution_count": 33,
   "metadata": {},
   "outputs": [],
   "source": [
    "count['presentase'] = (count['Cause Of Death']/count['Cause Of Death'].sum())*100"
   ]
  },
  {
   "cell_type": "code",
   "execution_count": 34,
   "metadata": {},
   "outputs": [
    {
     "data": {
      "text/html": [
       "<style  type=\"text/css\" >\n",
       "#T_7c1b833b_b9e4_11eb_b668_b73587ee979erow0_col0,#T_7c1b833b_b9e4_11eb_b668_b73587ee979erow0_col1{\n",
       "            background-color:  pink;\n",
       "        }</style><table id=\"T_7c1b833b_b9e4_11eb_b668_b73587ee979e\" ><thead>    <tr>        <th class=\"blank level0\" ></th>        <th class=\"col_heading level0 col0\" >Cause Of Death</th>        <th class=\"col_heading level0 col1\" >presentase</th>    </tr></thead><tbody>\n",
       "                <tr>\n",
       "                        <th id=\"T_7c1b833b_b9e4_11eb_b668_b73587ee979elevel0_row0\" class=\"row_heading level0 row0\" >Stress/Overexertion</th>\n",
       "                        <td id=\"T_7c1b833b_b9e4_11eb_b668_b73587ee979erow0_col0\" class=\"data row0 col0\" >305</td>\n",
       "                        <td id=\"T_7c1b833b_b9e4_11eb_b668_b73587ee979erow0_col1\" class=\"data row0 col1\" >99.025974</td>\n",
       "            </tr>\n",
       "            <tr>\n",
       "                        <th id=\"T_7c1b833b_b9e4_11eb_b668_b73587ee979elevel0_row1\" class=\"row_heading level0 row1\" >Other</th>\n",
       "                        <td id=\"T_7c1b833b_b9e4_11eb_b668_b73587ee979erow1_col0\" class=\"data row1 col0\" >2</td>\n",
       "                        <td id=\"T_7c1b833b_b9e4_11eb_b668_b73587ee979erow1_col1\" class=\"data row1 col1\" >0.649351</td>\n",
       "            </tr>\n",
       "            <tr>\n",
       "                        <th id=\"T_7c1b833b_b9e4_11eb_b668_b73587ee979elevel0_row2\" class=\"row_heading level0 row2\" >Exposure</th>\n",
       "                        <td id=\"T_7c1b833b_b9e4_11eb_b668_b73587ee979erow2_col0\" class=\"data row2 col0\" >1</td>\n",
       "                        <td id=\"T_7c1b833b_b9e4_11eb_b668_b73587ee979erow2_col1\" class=\"data row2 col1\" >0.324675</td>\n",
       "            </tr>\n",
       "    </tbody></table>"
      ],
      "text/plain": [
       "<pandas.io.formats.style.Styler at 0x2118bddb520>"
      ]
     },
     "execution_count": 34,
     "metadata": {},
     "output_type": "execute_result"
    }
   ],
   "source": [
    "count.style.highlight_max(color = 'pink', axis=0)"
   ]
  },
  {
   "cell_type": "markdown",
   "metadata": {},
   "source": [
    "## Faktor Penyebab  Pemadam Kebakaran yang Berumur 50-70 yang meninggal akibat Heart Attack"
   ]
  },
  {
   "cell_type": "code",
   "execution_count": 35,
   "metadata": {},
   "outputs": [],
   "source": [
    "df3 = df1[(df1['Age_bins']=='50-70')&(df1['Nature Of Death']=='Heart Attack')]"
   ]
  },
  {
   "cell_type": "code",
   "execution_count": 36,
   "metadata": {},
   "outputs": [
    {
     "data": {
      "text/plain": [
       "381"
      ]
     },
     "execution_count": 36,
     "metadata": {},
     "output_type": "execute_result"
    }
   ],
   "source": [
    "len(df3)"
   ]
  },
  {
   "cell_type": "code",
   "execution_count": 37,
   "metadata": {},
   "outputs": [
    {
     "name": "stdout",
     "output_type": "stream",
     "text": [
      "<class 'pandas.core.frame.DataFrame'>\n",
      "Int64Index: 381 entries, 1 to 2002\n",
      "Data columns (total 4 columns):\n",
      " #   Column           Non-Null Count  Dtype   \n",
      "---  ------           --------------  -----   \n",
      " 0   Nature Of Death  381 non-null    object  \n",
      " 1   Age              381 non-null    float64 \n",
      " 2   Cause Of Death   381 non-null    object  \n",
      " 3   Age_bins         381 non-null    category\n",
      "dtypes: category(1), float64(1), object(2)\n",
      "memory usage: 12.5+ KB\n"
     ]
    }
   ],
   "source": [
    "df3.info()"
   ]
  },
  {
   "cell_type": "markdown",
   "metadata": {},
   "source": [
    "Berdasarkan informasi di atas dapat dilihat bahwa tidak ada missing value, sehingga tidak perlu membuang null"
   ]
  },
  {
   "cell_type": "code",
   "execution_count": 38,
   "metadata": {},
   "outputs": [],
   "source": [
    "count2 = pd.DataFrame(df3['Cause Of Death'].value_counts())"
   ]
  },
  {
   "cell_type": "code",
   "execution_count": 39,
   "metadata": {},
   "outputs": [],
   "source": [
    "count2['presentase'] = (count2['Cause Of Death']/count2['Cause Of Death'].sum())*100"
   ]
  },
  {
   "cell_type": "code",
   "execution_count": 40,
   "metadata": {},
   "outputs": [
    {
     "data": {
      "text/html": [
       "<style  type=\"text/css\" >\n",
       "#T_7c29b8a8_b9e4_11eb_8a2b_b73587ee979erow0_col0,#T_7c29b8a8_b9e4_11eb_8a2b_b73587ee979erow0_col1{\n",
       "            background-color:  yellow;\n",
       "        }</style><table id=\"T_7c29b8a8_b9e4_11eb_8a2b_b73587ee979e\" ><thead>    <tr>        <th class=\"blank level0\" ></th>        <th class=\"col_heading level0 col0\" >Cause Of Death</th>        <th class=\"col_heading level0 col1\" >presentase</th>    </tr></thead><tbody>\n",
       "                <tr>\n",
       "                        <th id=\"T_7c29b8a8_b9e4_11eb_8a2b_b73587ee979elevel0_row0\" class=\"row_heading level0 row0\" >Stress/Overexertion</th>\n",
       "                        <td id=\"T_7c29b8a8_b9e4_11eb_8a2b_b73587ee979erow0_col0\" class=\"data row0 col0\" >377</td>\n",
       "                        <td id=\"T_7c29b8a8_b9e4_11eb_8a2b_b73587ee979erow0_col1\" class=\"data row0 col1\" >98.950131</td>\n",
       "            </tr>\n",
       "            <tr>\n",
       "                        <th id=\"T_7c29b8a8_b9e4_11eb_8a2b_b73587ee979elevel0_row1\" class=\"row_heading level0 row1\" >Smoke</th>\n",
       "                        <td id=\"T_7c29b8a8_b9e4_11eb_8a2b_b73587ee979erow1_col0\" class=\"data row1 col0\" >2</td>\n",
       "                        <td id=\"T_7c29b8a8_b9e4_11eb_8a2b_b73587ee979erow1_col1\" class=\"data row1 col1\" >0.524934</td>\n",
       "            </tr>\n",
       "            <tr>\n",
       "                        <th id=\"T_7c29b8a8_b9e4_11eb_8a2b_b73587ee979elevel0_row2\" class=\"row_heading level0 row2\" >Unknown</th>\n",
       "                        <td id=\"T_7c29b8a8_b9e4_11eb_8a2b_b73587ee979erow2_col0\" class=\"data row2 col0\" >2</td>\n",
       "                        <td id=\"T_7c29b8a8_b9e4_11eb_8a2b_b73587ee979erow2_col1\" class=\"data row2 col1\" >0.524934</td>\n",
       "            </tr>\n",
       "    </tbody></table>"
      ],
      "text/plain": [
       "<pandas.io.formats.style.Styler at 0x2118d005f10>"
      ]
     },
     "execution_count": 40,
     "metadata": {},
     "output_type": "execute_result"
    }
   ],
   "source": [
    "count2.style.highlight_max(color = 'yellow', axis=0)"
   ]
  },
  {
   "cell_type": "markdown",
   "metadata": {},
   "source": [
    "## Kesimpulan"
   ]
  },
  {
   "cell_type": "markdown",
   "metadata": {},
   "source": [
    "Berdasarkan bar chart di atas dapat dilihat bahwa kematian pemadam kebakaran yang paling banyak disebabkan oleh serangan jantung.Pemadam kebakaran yang paling banyak meninggal akibat penyakit ini, yaitu mereka yang berada di rentang usia 50-70 tahun mencapai 381 orang. Hal ini selaras dengan orang yang biasanya terkena serangan jantung pada umumnya berusia 50 tahun ke atas. Terhitung 377 dari 381 pemadam kebakaran yang berada pada rentang usia 50-70 yang meninggal karena serangan jantung dipicu oleh adanya stress/overexertion. Stress merupakan salah satu faktor penyebab serangan jantung yang tidak dapat dihindari. Dilansir melalui Medical News Today, stres yang berkelanjutan dapat berdampak fatal karena menyebabkan penyempitan pembuluh darah yang mengarah pada gagal jantung. Ditambah lagi paparan asap, jelaga dan bahan kimia di udara akibat kebakaran yang tinggi ikut menyebabkan masalah jantung.\n",
    "\n",
    "Selain itu, tidak menutup kemungkinan juga bagi pemadam kebakaran yang masih tergolong di bawah umur 50 tahun (berumur 30-50 tahun) juga bisa meninggal akibat serangan jantung. Hal ini dibuktikan dengan jumlah pemadam kebakaran yang berusia 30-50 yang meninggal akibat serangan jantung juga tidak kalah banyak, yaitu sebesar 310 orang. Hampir seluruh pemadam kebakaran yang berusia 30-50 yang meninggal akibat serangan jantung dipicu dengan adanya stress/overexertion (99.03%). Hal ini selaras dengan salah satu penyebab serangan jantung di usia muda, yaitu stress. Stress dapat meningkatkan risiko terkena serangan jantung di usia muda karena dapat memicu peningkatan tekananan darah dan menurunkan kolesterol baik yang berfungsi untuk menjaga kesehatan jantung. \n",
    "\n",
    "Saran : untuk dapat mengurangi risiko kematian pemadam kebakaran akibat serangan jantung, sebaiknya sebelum menjadi pemadam kebakaran/volunteer pemadam kebakaran diadakan tes kesehatan jantung untuk masing-masing orang karena apabila orang tersebut mempunyai penyakit jantung risiko meninggalnya akan lebih tinggi ketika melakukan pekerjaan berat, terutama dalam saat kondisi stress karena dapat memicu peningkatan hormon adrenalin dan hormon terkait yang mempengaruhi sistem kardiovaskular \n",
    "\n",
    "Sumber : \n",
    "1. alodokter.com/waspadai-berbagai-penyebab-serangan-jantung-di-usia-muda \n",
    "2. https://health.kompas.com/read/2020/08/03/103518868/10-penyebab-penyakit-jantung-yang-harus-diwaspadai?page=all\n",
    "3. https://www.voaindonesia.com/a/mengapa-banyak-petugas-damkar-tewas-akibat-serangan-jantung-saat-bertugas-/4597502.html"
   ]
  }
 ],
 "metadata": {
  "kernelspec": {
   "display_name": "Python 3",
   "language": "python",
   "name": "python3"
  },
  "language_info": {
   "codemirror_mode": {
    "name": "ipython",
    "version": 3
   },
   "file_extension": ".py",
   "mimetype": "text/x-python",
   "name": "python",
   "nbconvert_exporter": "python",
   "pygments_lexer": "ipython3",
   "version": "3.8.5"
  }
 },
 "nbformat": 4,
 "nbformat_minor": 4
}
